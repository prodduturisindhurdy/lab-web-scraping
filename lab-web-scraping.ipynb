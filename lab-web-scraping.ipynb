{
  "cells": [
    {
      "cell_type": "markdown",
      "id": "7e7a1ab8-2599-417d-9a65-25ef07f3a786",
      "metadata": {
        "id": "7e7a1ab8-2599-417d-9a65-25ef07f3a786"
      },
      "source": [
        "# Lab | Web Scraping"
      ]
    },
    {
      "cell_type": "markdown",
      "id": "ce8882fc-4815-4567-92fa-b4816358ba7d",
      "metadata": {
        "id": "ce8882fc-4815-4567-92fa-b4816358ba7d"
      },
      "source": [
        "Welcome to the \"Books to Scrape\" Web Scraping Adventure Lab!\n",
        "\n",
        "**Objective**\n",
        "\n",
        "In this lab, we will embark on a mission to unearth valuable insights from the data available on Books to Scrape, an online platform showcasing a wide variety of books. As data analyst, you have been tasked with scraping a specific subset of book data from Books to Scrape to assist publishing companies in understanding the landscape of highly-rated books across different genres. Your insights will help shape future book marketing strategies and publishing decisions.\n",
        "\n",
        "**Background**\n",
        "\n",
        "In a world where data has become the new currency, businesses are leveraging big data to make informed decisions that drive success and profitability. The publishing industry, much like others, utilizes data analytics to understand market trends, reader preferences, and the performance of books based on factors such as genre, author, and ratings. Books to Scrape serves as a rich source of such data, offering detailed information about a diverse range of books, making it an ideal platform for extracting insights to aid in informed decision-making within the literary world.\n",
        "\n",
        "**Task**\n",
        "\n",
        "Your task is to create a Python script using BeautifulSoup and pandas to scrape Books to Scrape book data, focusing on book ratings and genres. The script should be able to filter books with ratings above a certain threshold and in specific genres. Additionally, the script should structure the scraped data in a tabular format using pandas for further analysis.\n",
        "\n",
        "**Expected Outcome**\n",
        "\n",
        "A function named `scrape_books` that takes two parameters: `min_rating` and `max_price`. The function should scrape book data from the \"Books to Scrape\" website and return a `pandas` DataFrame with the following columns:\n",
        "\n",
        "**Expected Outcome**\n",
        "\n",
        "- A function named `scrape_books` that takes two parameters: `min_rating` and `max_price`.\n",
        "- The function should return a DataFrame with the following columns:\n",
        "  - **UPC**: The Universal Product Code (UPC) of the book.\n",
        "  - **Title**: The title of the book.\n",
        "  - **Price (£)**: The price of the book in pounds.\n",
        "  - **Rating**: The rating of the book (1-5 stars).\n",
        "  - **Genre**: The genre of the book.\n",
        "  - **Availability**: Whether the book is in stock or not.\n",
        "  - **Description**: A brief description or product description of the book (if available).\n",
        "  \n",
        "You will execute this script to scrape data for books with a minimum rating of `4.0 and above` and a maximum price of `£20`. \n",
        "\n",
        "Remember to experiment with different ratings and prices to ensure your code is versatile and can handle various searches effectively!\n",
        "\n",
        "**Resources**\n",
        "\n",
        "- [Beautiful Soup Documentation](https://www.crummy.com/software/BeautifulSoup/bs4/doc/)\n",
        "- [Pandas Documentation](https://pandas.pydata.org/pandas-docs/stable/index.html)\n",
        "- [Books to Scrape](https://books.toscrape.com/)\n"
      ]
    },
    {
      "cell_type": "markdown",
      "id": "3519921d-5890-445b-9a33-934ed8ee378c",
      "metadata": {
        "id": "3519921d-5890-445b-9a33-934ed8ee378c"
      },
      "source": [
        "**Hint**\n",
        "\n",
        "Your first mission is to familiarize yourself with the **Books to Scrape** website. Navigate to [Books to Scrape](http://books.toscrape.com/) and explore the available books to understand their layout and structure. \n",
        "\n",
        "Next, think about how you can set parameters for your data extraction:\n",
        "\n",
        "- **Minimum Rating**: Focus on books with a rating of 4.0 and above.\n",
        "- **Maximum Price**: Filter for books priced up to £20.\n",
        "\n",
        "After reviewing the site, you can construct a plan for scraping relevant data. Pay attention to the details displayed for each book, including the title, price, rating, and availability. This will help you identify the correct HTML elements to target with your scraping script.\n",
        "\n",
        "Make sure to build your scraping URL and logic based on the patterns you observe in the HTML structure of the book listings!"
      ]
    },
    {
      "cell_type": "markdown",
      "id": "25a83a0d-a742-49f6-985e-e27887cbf922",
      "metadata": {
        "id": "25a83a0d-a742-49f6-985e-e27887cbf922"
      },
      "source": [
        "\n",
        "---\n",
        "\n",
        "**Best of luck! Immerse yourself in the world of books, and may the data be with you!**"
      ]
    },
    {
      "cell_type": "markdown",
      "id": "7b75cf0d-9afa-4eec-a9e2-befeac68b2a0",
      "metadata": {
        "id": "7b75cf0d-9afa-4eec-a9e2-befeac68b2a0"
      },
      "source": [
        "**Important Note**:\n",
        "\n",
        "In the fast-changing online world, websites often update and change their structures. When you try this lab, the **Books to Scrape** website might differ from what you expect.\n",
        "\n",
        "If you encounter issues due to these changes, like new rules or obstacles preventing data extraction, don’t worry! Get creative.\n",
        "\n",
        "You can choose another website that interests you and is suitable for scraping data. Options like Wikipedia, The New York Times, or even library databases are great alternatives. The main goal remains the same: extract useful data and enhance your web scraping skills while exploring a source of information you enjoy. This is your opportunity to practice and adapt to different web environments!"
      ]
    },
    {
      "cell_type": "code",
      "execution_count": 1,
      "id": "40359eee-9cd7-4884-bfa4-83344c222305",
      "metadata": {
        "id": "40359eee-9cd7-4884-bfa4-83344c222305"
      },
      "outputs": [],
      "source": [
        "import requests\n",
        "from bs4 import BeautifulSoup\n",
        "import pandas as pd"
      ]
    },
    {
      "cell_type": "code",
      "execution_count": 2,
      "id": "75ffbec8",
      "metadata": {},
      "outputs": [
        {
          "data": {
            "text/plain": [
              "<Response [200]>"
            ]
          },
          "execution_count": 2,
          "metadata": {},
          "output_type": "execute_result"
        }
      ],
      "source": [
        "url = \"http://books.toscrape.com/\"\n",
        "\n",
        "response = requests.get(url)\n",
        "response"
      ]
    },
    {
      "cell_type": "code",
      "execution_count": 3,
      "id": "31b14178",
      "metadata": {},
      "outputs": [],
      "source": [
        "soup = BeautifulSoup(response.content)"
      ]
    },
    {
      "cell_type": "code",
      "execution_count": 7,
      "id": "5e49a4e6",
      "metadata": {},
      "outputs": [
        {
          "data": {
            "text/plain": [
              "'\\n\\n\\n\\n\\n\\n\\n\\n\\n\\n\\n\\nTipping the Velvet\\n\\n£53.74\\n\\n\\n    \\n        In stock\\n    \\n\\n\\nAdd to basket\\n\\n\\n\\n'"
            ]
          },
          "execution_count": 7,
          "metadata": {},
          "output_type": "execute_result"
        }
      ],
      "source": [
        "grid = soup.find(\"ol\", attrs = {\"class\":\"row\"})\n",
        "\n",
        "Books = grid.find_all(\"li\", attrs = {\"class\":\"col-xs-6 col-sm-4 col-md-3 col-lg-3\"})\n",
        "Books[1].get_text()\n"
      ]
    },
    {
      "cell_type": "code",
      "execution_count": 34,
      "id": "5f2448ae",
      "metadata": {},
      "outputs": [
        {
          "data": {
            "text/plain": [
              "'Soumission'"
            ]
          },
          "execution_count": 34,
          "metadata": {},
          "output_type": "execute_result"
        }
      ],
      "source": [
        "#title\n",
        "Books[0].find(\"h3\").get_text()\n",
        "def get_title(book_item):\n",
        "    Title = book_item.find(\"h3\").get_text()\n",
        "\n",
        "    return Title\n",
        "get_title(Books[2])"
      ]
    },
    {
      "cell_type": "code",
      "execution_count": 37,
      "id": "64b012d6",
      "metadata": {},
      "outputs": [
        {
          "data": {
            "text/plain": [
              "50.1"
            ]
          },
          "execution_count": 37,
          "metadata": {},
          "output_type": "execute_result"
        }
      ],
      "source": [
        "#price\n",
        "Books[0].find(\"p\",attrs={\"class\":\"price_color\"}).get_text()\n",
        "def get_price(book_item):\n",
        "    price=book_item.find(\"p\",attrs={\"class\":\"price_color\"}).get_text()\n",
        "    return float(price.replace(\"£\",\"\"))\n",
        "get_price(Books[2])"
      ]
    },
    {
      "cell_type": "code",
      "execution_count": 40,
      "id": "428391fb",
      "metadata": {},
      "outputs": [
        {
          "data": {
            "text/plain": [
              "1"
            ]
          },
          "execution_count": 40,
          "metadata": {},
          "output_type": "execute_result"
        }
      ],
      "source": [
        "#rating\n",
        "Books[0].find(\"p\",attrs= {\"class\":\"star-rating\"}).get(\"class\")\n",
        "def get_rating(book_item):\n",
        "    rating_dict = {\"One\":1, \"Two\":2, \"Three\":3, \"Four\":4, \"Five\":5}\n",
        "    rating_class = book_item.find(\"p\",attrs= {\"class\":\"star-rating\"}).get(\"class\")\n",
        "    rating_text = rating_class[1]   \n",
        "    rating = rating_dict[rating_text]\n",
        "    return rating\n",
        "get_rating(Books[2])\n"
      ]
    },
    {
      "cell_type": "code",
      "execution_count": 50,
      "id": "913266e9",
      "metadata": {},
      "outputs": [],
      "source": [
        "#avaliability\n",
        "Books[0].find(\"p\", attrs={\"class\":\"instock availability\"}).get(\"class\")\n",
        "def get_avaliablilty(book_item):\n",
        "    avaliablity=book_item.find(\"p\",attrs={\"class\":\"instock availability\"}).get_text().strip()\n",
        "    return avaliablity\n"
      ]
    },
    {
      "cell_type": "code",
      "execution_count": 42,
      "id": "3848eee5",
      "metadata": {},
      "outputs": [
        {
          "data": {
            "text/plain": [
              "'http://books.toscrape.com/catalogue/a-light-in-the-attic_1000/index.html'"
            ]
          },
          "execution_count": 42,
          "metadata": {},
          "output_type": "execute_result"
        }
      ],
      "source": [
        "#url\n",
        "Books[0].find(\"a\")[\"href\"]\n",
        "def get_url(book_item):\n",
        "    domain=\"http://books.toscrape.com/\"\n",
        "    partial_url=book_item.find(\"a\")[\"href\"]\n",
        "    return domain+partial_url\n",
        "get_url(Books[0])"
      ]
    },
    {
      "cell_type": "code",
      "execution_count": 43,
      "id": "e949bd46",
      "metadata": {},
      "outputs": [
        {
          "name": "stdout",
          "output_type": "stream",
          "text": [
            "A Light in the ...\n",
            "51.77\n",
            "3\n",
            "['instock', 'availability']\n",
            "http://books.toscrape.com/catalogue/a-light-in-the-attic_1000/index.html\n",
            "----------------------\n",
            "Tipping the Velvet\n",
            "53.74\n",
            "1\n",
            "['instock', 'availability']\n",
            "http://books.toscrape.com/catalogue/tipping-the-velvet_999/index.html\n",
            "----------------------\n",
            "Soumission\n",
            "50.1\n",
            "1\n",
            "['instock', 'availability']\n",
            "http://books.toscrape.com/catalogue/soumission_998/index.html\n",
            "----------------------\n",
            "Sharp Objects\n",
            "47.82\n",
            "4\n",
            "['instock', 'availability']\n",
            "http://books.toscrape.com/catalogue/sharp-objects_997/index.html\n",
            "----------------------\n",
            "Sapiens: A Brief History ...\n",
            "54.23\n",
            "5\n",
            "['instock', 'availability']\n",
            "http://books.toscrape.com/catalogue/sapiens-a-brief-history-of-humankind_996/index.html\n",
            "----------------------\n",
            "The Requiem Red\n",
            "22.65\n",
            "1\n",
            "['instock', 'availability']\n",
            "http://books.toscrape.com/catalogue/the-requiem-red_995/index.html\n",
            "----------------------\n",
            "The Dirty Little Secrets ...\n",
            "33.34\n",
            "4\n",
            "['instock', 'availability']\n",
            "http://books.toscrape.com/catalogue/the-dirty-little-secrets-of-getting-your-dream-job_994/index.html\n",
            "----------------------\n",
            "The Coming Woman: A ...\n",
            "17.93\n",
            "3\n",
            "['instock', 'availability']\n",
            "http://books.toscrape.com/catalogue/the-coming-woman-a-novel-based-on-the-life-of-the-infamous-feminist-victoria-woodhull_993/index.html\n",
            "----------------------\n",
            "The Boys in the ...\n",
            "22.6\n",
            "4\n",
            "['instock', 'availability']\n",
            "http://books.toscrape.com/catalogue/the-boys-in-the-boat-nine-americans-and-their-epic-quest-for-gold-at-the-1936-berlin-olympics_992/index.html\n",
            "----------------------\n",
            "The Black Maria\n",
            "52.15\n",
            "1\n",
            "['instock', 'availability']\n",
            "http://books.toscrape.com/catalogue/the-black-maria_991/index.html\n",
            "----------------------\n",
            "Starving Hearts (Triangular Trade ...\n",
            "13.99\n",
            "2\n",
            "['instock', 'availability']\n",
            "http://books.toscrape.com/catalogue/starving-hearts-triangular-trade-trilogy-1_990/index.html\n",
            "----------------------\n",
            "Shakespeare's Sonnets\n",
            "20.66\n",
            "4\n",
            "['instock', 'availability']\n",
            "http://books.toscrape.com/catalogue/shakespeares-sonnets_989/index.html\n",
            "----------------------\n",
            "Set Me Free\n",
            "17.46\n",
            "5\n",
            "['instock', 'availability']\n",
            "http://books.toscrape.com/catalogue/set-me-free_988/index.html\n",
            "----------------------\n",
            "Scott Pilgrim's Precious Little ...\n",
            "52.29\n",
            "5\n",
            "['instock', 'availability']\n",
            "http://books.toscrape.com/catalogue/scott-pilgrims-precious-little-life-scott-pilgrim-1_987/index.html\n",
            "----------------------\n",
            "Rip it Up and ...\n",
            "35.02\n",
            "5\n",
            "['instock', 'availability']\n",
            "http://books.toscrape.com/catalogue/rip-it-up-and-start-again_986/index.html\n",
            "----------------------\n",
            "Our Band Could Be ...\n",
            "57.25\n",
            "3\n",
            "['instock', 'availability']\n",
            "http://books.toscrape.com/catalogue/our-band-could-be-your-life-scenes-from-the-american-indie-underground-1981-1991_985/index.html\n",
            "----------------------\n",
            "Olio\n",
            "23.88\n",
            "1\n",
            "['instock', 'availability']\n",
            "http://books.toscrape.com/catalogue/olio_984/index.html\n",
            "----------------------\n",
            "Mesaerion: The Best Science ...\n",
            "37.59\n",
            "1\n",
            "['instock', 'availability']\n",
            "http://books.toscrape.com/catalogue/mesaerion-the-best-science-fiction-stories-1800-1849_983/index.html\n",
            "----------------------\n",
            "Libertarianism for Beginners\n",
            "51.33\n",
            "2\n",
            "['instock', 'availability']\n",
            "http://books.toscrape.com/catalogue/libertarianism-for-beginners_982/index.html\n",
            "----------------------\n",
            "It's Only the Himalayas\n",
            "45.17\n",
            "2\n",
            "['instock', 'availability']\n",
            "http://books.toscrape.com/catalogue/its-only-the-himalayas_981/index.html\n",
            "----------------------\n"
          ]
        }
      ],
      "source": [
        "for book in Books:\n",
        "    print(get_title(book))\n",
        "    print(get_price(book))\n",
        "    print(get_rating(book))\n",
        "    print(get_avaliablilty(book))\n",
        "    print(get_url(book))\n",
        "    print(\"----------------------\")"
      ]
    },
    {
      "cell_type": "code",
      "execution_count": 52,
      "id": "d5d56ca8",
      "metadata": {},
      "outputs": [
        {
          "data": {
            "text/html": [
              "<div>\n",
              "<style scoped>\n",
              "    .dataframe tbody tr th:only-of-type {\n",
              "        vertical-align: middle;\n",
              "    }\n",
              "\n",
              "    .dataframe tbody tr th {\n",
              "        vertical-align: top;\n",
              "    }\n",
              "\n",
              "    .dataframe thead th {\n",
              "        text-align: right;\n",
              "    }\n",
              "</style>\n",
              "<table border=\"1\" class=\"dataframe\">\n",
              "  <thead>\n",
              "    <tr style=\"text-align: right;\">\n",
              "      <th></th>\n",
              "      <th>Title</th>\n",
              "      <th>Price</th>\n",
              "      <th>Rating</th>\n",
              "      <th>Avaliability</th>\n",
              "      <th>Url</th>\n",
              "    </tr>\n",
              "  </thead>\n",
              "  <tbody>\n",
              "    <tr>\n",
              "      <th>0</th>\n",
              "      <td>A Light in the ...</td>\n",
              "      <td>51.77</td>\n",
              "      <td>3</td>\n",
              "      <td>In stock</td>\n",
              "      <td>http://books.toscrape.com/catalogue/a-light-in...</td>\n",
              "    </tr>\n",
              "    <tr>\n",
              "      <th>1</th>\n",
              "      <td>Tipping the Velvet</td>\n",
              "      <td>53.74</td>\n",
              "      <td>1</td>\n",
              "      <td>In stock</td>\n",
              "      <td>http://books.toscrape.com/catalogue/tipping-th...</td>\n",
              "    </tr>\n",
              "    <tr>\n",
              "      <th>2</th>\n",
              "      <td>Soumission</td>\n",
              "      <td>50.10</td>\n",
              "      <td>1</td>\n",
              "      <td>In stock</td>\n",
              "      <td>http://books.toscrape.com/catalogue/soumission...</td>\n",
              "    </tr>\n",
              "    <tr>\n",
              "      <th>3</th>\n",
              "      <td>Sharp Objects</td>\n",
              "      <td>47.82</td>\n",
              "      <td>4</td>\n",
              "      <td>In stock</td>\n",
              "      <td>http://books.toscrape.com/catalogue/sharp-obje...</td>\n",
              "    </tr>\n",
              "    <tr>\n",
              "      <th>4</th>\n",
              "      <td>Sapiens: A Brief History ...</td>\n",
              "      <td>54.23</td>\n",
              "      <td>5</td>\n",
              "      <td>In stock</td>\n",
              "      <td>http://books.toscrape.com/catalogue/sapiens-a-...</td>\n",
              "    </tr>\n",
              "    <tr>\n",
              "      <th>5</th>\n",
              "      <td>The Requiem Red</td>\n",
              "      <td>22.65</td>\n",
              "      <td>1</td>\n",
              "      <td>In stock</td>\n",
              "      <td>http://books.toscrape.com/catalogue/the-requie...</td>\n",
              "    </tr>\n",
              "    <tr>\n",
              "      <th>6</th>\n",
              "      <td>The Dirty Little Secrets ...</td>\n",
              "      <td>33.34</td>\n",
              "      <td>4</td>\n",
              "      <td>In stock</td>\n",
              "      <td>http://books.toscrape.com/catalogue/the-dirty-...</td>\n",
              "    </tr>\n",
              "    <tr>\n",
              "      <th>7</th>\n",
              "      <td>The Coming Woman: A ...</td>\n",
              "      <td>17.93</td>\n",
              "      <td>3</td>\n",
              "      <td>In stock</td>\n",
              "      <td>http://books.toscrape.com/catalogue/the-coming...</td>\n",
              "    </tr>\n",
              "    <tr>\n",
              "      <th>8</th>\n",
              "      <td>The Boys in the ...</td>\n",
              "      <td>22.60</td>\n",
              "      <td>4</td>\n",
              "      <td>In stock</td>\n",
              "      <td>http://books.toscrape.com/catalogue/the-boys-i...</td>\n",
              "    </tr>\n",
              "    <tr>\n",
              "      <th>9</th>\n",
              "      <td>The Black Maria</td>\n",
              "      <td>52.15</td>\n",
              "      <td>1</td>\n",
              "      <td>In stock</td>\n",
              "      <td>http://books.toscrape.com/catalogue/the-black-...</td>\n",
              "    </tr>\n",
              "    <tr>\n",
              "      <th>10</th>\n",
              "      <td>Starving Hearts (Triangular Trade ...</td>\n",
              "      <td>13.99</td>\n",
              "      <td>2</td>\n",
              "      <td>In stock</td>\n",
              "      <td>http://books.toscrape.com/catalogue/starving-h...</td>\n",
              "    </tr>\n",
              "    <tr>\n",
              "      <th>11</th>\n",
              "      <td>Shakespeare's Sonnets</td>\n",
              "      <td>20.66</td>\n",
              "      <td>4</td>\n",
              "      <td>In stock</td>\n",
              "      <td>http://books.toscrape.com/catalogue/shakespear...</td>\n",
              "    </tr>\n",
              "    <tr>\n",
              "      <th>12</th>\n",
              "      <td>Set Me Free</td>\n",
              "      <td>17.46</td>\n",
              "      <td>5</td>\n",
              "      <td>In stock</td>\n",
              "      <td>http://books.toscrape.com/catalogue/set-me-fre...</td>\n",
              "    </tr>\n",
              "    <tr>\n",
              "      <th>13</th>\n",
              "      <td>Scott Pilgrim's Precious Little ...</td>\n",
              "      <td>52.29</td>\n",
              "      <td>5</td>\n",
              "      <td>In stock</td>\n",
              "      <td>http://books.toscrape.com/catalogue/scott-pilg...</td>\n",
              "    </tr>\n",
              "    <tr>\n",
              "      <th>14</th>\n",
              "      <td>Rip it Up and ...</td>\n",
              "      <td>35.02</td>\n",
              "      <td>5</td>\n",
              "      <td>In stock</td>\n",
              "      <td>http://books.toscrape.com/catalogue/rip-it-up-...</td>\n",
              "    </tr>\n",
              "    <tr>\n",
              "      <th>15</th>\n",
              "      <td>Our Band Could Be ...</td>\n",
              "      <td>57.25</td>\n",
              "      <td>3</td>\n",
              "      <td>In stock</td>\n",
              "      <td>http://books.toscrape.com/catalogue/our-band-c...</td>\n",
              "    </tr>\n",
              "    <tr>\n",
              "      <th>16</th>\n",
              "      <td>Olio</td>\n",
              "      <td>23.88</td>\n",
              "      <td>1</td>\n",
              "      <td>In stock</td>\n",
              "      <td>http://books.toscrape.com/catalogue/olio_984/i...</td>\n",
              "    </tr>\n",
              "    <tr>\n",
              "      <th>17</th>\n",
              "      <td>Mesaerion: The Best Science ...</td>\n",
              "      <td>37.59</td>\n",
              "      <td>1</td>\n",
              "      <td>In stock</td>\n",
              "      <td>http://books.toscrape.com/catalogue/mesaerion-...</td>\n",
              "    </tr>\n",
              "    <tr>\n",
              "      <th>18</th>\n",
              "      <td>Libertarianism for Beginners</td>\n",
              "      <td>51.33</td>\n",
              "      <td>2</td>\n",
              "      <td>In stock</td>\n",
              "      <td>http://books.toscrape.com/catalogue/libertaria...</td>\n",
              "    </tr>\n",
              "    <tr>\n",
              "      <th>19</th>\n",
              "      <td>It's Only the Himalayas</td>\n",
              "      <td>45.17</td>\n",
              "      <td>2</td>\n",
              "      <td>In stock</td>\n",
              "      <td>http://books.toscrape.com/catalogue/its-only-t...</td>\n",
              "    </tr>\n",
              "  </tbody>\n",
              "</table>\n",
              "</div>"
            ],
            "text/plain": [
              "                                    Title  Price  Rating Avaliability  \\\n",
              "0                      A Light in the ...  51.77       3     In stock   \n",
              "1                      Tipping the Velvet  53.74       1     In stock   \n",
              "2                              Soumission  50.10       1     In stock   \n",
              "3                           Sharp Objects  47.82       4     In stock   \n",
              "4            Sapiens: A Brief History ...  54.23       5     In stock   \n",
              "5                         The Requiem Red  22.65       1     In stock   \n",
              "6            The Dirty Little Secrets ...  33.34       4     In stock   \n",
              "7                 The Coming Woman: A ...  17.93       3     In stock   \n",
              "8                     The Boys in the ...  22.60       4     In stock   \n",
              "9                         The Black Maria  52.15       1     In stock   \n",
              "10  Starving Hearts (Triangular Trade ...  13.99       2     In stock   \n",
              "11                  Shakespeare's Sonnets  20.66       4     In stock   \n",
              "12                            Set Me Free  17.46       5     In stock   \n",
              "13    Scott Pilgrim's Precious Little ...  52.29       5     In stock   \n",
              "14                      Rip it Up and ...  35.02       5     In stock   \n",
              "15                  Our Band Could Be ...  57.25       3     In stock   \n",
              "16                                   Olio  23.88       1     In stock   \n",
              "17        Mesaerion: The Best Science ...  37.59       1     In stock   \n",
              "18           Libertarianism for Beginners  51.33       2     In stock   \n",
              "19                It's Only the Himalayas  45.17       2     In stock   \n",
              "\n",
              "                                                  Url  \n",
              "0   http://books.toscrape.com/catalogue/a-light-in...  \n",
              "1   http://books.toscrape.com/catalogue/tipping-th...  \n",
              "2   http://books.toscrape.com/catalogue/soumission...  \n",
              "3   http://books.toscrape.com/catalogue/sharp-obje...  \n",
              "4   http://books.toscrape.com/catalogue/sapiens-a-...  \n",
              "5   http://books.toscrape.com/catalogue/the-requie...  \n",
              "6   http://books.toscrape.com/catalogue/the-dirty-...  \n",
              "7   http://books.toscrape.com/catalogue/the-coming...  \n",
              "8   http://books.toscrape.com/catalogue/the-boys-i...  \n",
              "9   http://books.toscrape.com/catalogue/the-black-...  \n",
              "10  http://books.toscrape.com/catalogue/starving-h...  \n",
              "11  http://books.toscrape.com/catalogue/shakespear...  \n",
              "12  http://books.toscrape.com/catalogue/set-me-fre...  \n",
              "13  http://books.toscrape.com/catalogue/scott-pilg...  \n",
              "14  http://books.toscrape.com/catalogue/rip-it-up-...  \n",
              "15  http://books.toscrape.com/catalogue/our-band-c...  \n",
              "16  http://books.toscrape.com/catalogue/olio_984/i...  \n",
              "17  http://books.toscrape.com/catalogue/mesaerion-...  \n",
              "18  http://books.toscrape.com/catalogue/libertaria...  \n",
              "19  http://books.toscrape.com/catalogue/its-only-t...  "
            ]
          },
          "execution_count": 52,
          "metadata": {},
          "output_type": "execute_result"
        }
      ],
      "source": [
        "Books_dict = {\n",
        "    \"Title\": [get_title(book) for book in Books],\n",
        "    \"Price\": [get_price(book) for book in Books],\n",
        "    \"Rating\": [get_rating(book) for book in Books],\n",
        "    \"Avaliability\": [get_avaliablilty(book) for book in Books],\n",
        "    \"Url\":[get_url(book)for book in Books]\n",
        "}\n",
        "pd.DataFrame(Books_dict)"
      ]
    },
    {
      "cell_type": "code",
      "execution_count": null,
      "id": "c088db7c",
      "metadata": {},
      "outputs": [
        {
          "data": {
            "text/html": [
              "<div>\n",
              "<style scoped>\n",
              "    .dataframe tbody tr th:only-of-type {\n",
              "        vertical-align: middle;\n",
              "    }\n",
              "\n",
              "    .dataframe tbody tr th {\n",
              "        vertical-align: top;\n",
              "    }\n",
              "\n",
              "    .dataframe thead th {\n",
              "        text-align: right;\n",
              "    }\n",
              "</style>\n",
              "<table border=\"1\" class=\"dataframe\">\n",
              "  <thead>\n",
              "    <tr style=\"text-align: right;\">\n",
              "      <th></th>\n",
              "      <th>Title</th>\n",
              "      <th>Price</th>\n",
              "      <th>Rating</th>\n",
              "      <th>Availability</th>\n",
              "      <th>Url</th>\n",
              "    </tr>\n",
              "  </thead>\n",
              "  <tbody>\n",
              "    <tr>\n",
              "      <th>0</th>\n",
              "      <td>Set Me Free</td>\n",
              "      <td>17.46</td>\n",
              "      <td>5</td>\n",
              "      <td>In stock</td>\n",
              "      <td>http://books.toscrape.com/catalogue/set-me-fre...</td>\n",
              "    </tr>\n",
              "  </tbody>\n",
              "</table>\n",
              "</div>"
            ],
            "text/plain": [
              "         Title  Price  Rating Availability  \\\n",
              "0  Set Me Free  17.46       5     In stock   \n",
              "\n",
              "                                                 Url  \n",
              "0  http://books.toscrape.com/catalogue/set-me-fre...  "
            ]
          },
          "execution_count": 51,
          "metadata": {},
          "output_type": "execute_result"
        }
      ],
      "source": [
        "\n",
        "\n",
        "# Filtered lists using list comprehensions\n",
        "Titles = []\n",
        "Prices = []\n",
        "Ratings = []\n",
        "Availability = []\n",
        "Urls = []\n",
        "\n",
        "for book in Books:\n",
        "    rating = get_rating(book)\n",
        "    price = get_price(book)\n",
        "    \n",
        "    if rating >= 4 and price <= 20:  \n",
        "        Titles.append(get_title(book))\n",
        "        Prices.append(price)\n",
        "        Ratings.append(rating)\n",
        "        Availability.append(get_avaliablilty(book))\n",
        "        Urls.append(get_url(book))\n",
        "\n",
        "# Build DataFrame\n",
        "Books_filtered_df = pd.DataFrame({\n",
        "    \"Title\": Titles,\n",
        "    \"Price\": Prices,\n",
        "    \"Rating\": Ratings,\n",
        "    \"Availability\": Availability,\n",
        "    \"Url\": Urls\n",
        "})\n",
        "\n",
        "Books_filtered_df.head()\n"
      ]
    }
  ],
  "metadata": {
    "colab": {
      "provenance": []
    },
    "kernelspec": {
      "display_name": "base",
      "language": "python",
      "name": "python3"
    },
    "language_info": {
      "codemirror_mode": {
        "name": "ipython",
        "version": 3
      },
      "file_extension": ".py",
      "mimetype": "text/x-python",
      "name": "python",
      "nbconvert_exporter": "python",
      "pygments_lexer": "ipython3",
      "version": "3.13.5"
    }
  },
  "nbformat": 4,
  "nbformat_minor": 5
}
