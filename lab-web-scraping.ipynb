{
  "cells": [
    {
      "cell_type": "markdown",
      "id": "7e7a1ab8-2599-417d-9a65-25ef07f3a786",
      "metadata": {
        "id": "7e7a1ab8-2599-417d-9a65-25ef07f3a786"
      },
      "source": [
        "# Lab | Web Scraping"
      ]
    },
    {
      "cell_type": "markdown",
      "id": "ce8882fc-4815-4567-92fa-b4816358ba7d",
      "metadata": {
        "id": "ce8882fc-4815-4567-92fa-b4816358ba7d"
      },
      "source": [
        "Welcome to the \"Books to Scrape\" Web Scraping Adventure Lab!\n",
        "\n",
        "**Objective**\n",
        "\n",
        "In this lab, we will embark on a mission to unearth valuable insights from the data available on Books to Scrape, an online platform showcasing a wide variety of books. As data analyst, you have been tasked with scraping a specific subset of book data from Books to Scrape to assist publishing companies in understanding the landscape of highly-rated books across different genres. Your insights will help shape future book marketing strategies and publishing decisions.\n",
        "\n",
        "**Background**\n",
        "\n",
        "In a world where data has become the new currency, businesses are leveraging big data to make informed decisions that drive success and profitability. The publishing industry, much like others, utilizes data analytics to understand market trends, reader preferences, and the performance of books based on factors such as genre, author, and ratings. Books to Scrape serves as a rich source of such data, offering detailed information about a diverse range of books, making it an ideal platform for extracting insights to aid in informed decision-making within the literary world.\n",
        "\n",
        "**Task**\n",
        "\n",
        "Your task is to create a Python script using BeautifulSoup and pandas to scrape Books to Scrape book data, focusing on book ratings and genres. The script should be able to filter books with ratings above a certain threshold and in specific genres. Additionally, the script should structure the scraped data in a tabular format using pandas for further analysis.\n",
        "\n",
        "**Expected Outcome**\n",
        "\n",
        "A function named `scrape_books` that takes two parameters: `min_rating` and `max_price`. The function should scrape book data from the \"Books to Scrape\" website and return a `pandas` DataFrame with the following columns:\n",
        "\n",
        "**Expected Outcome**\n",
        "\n",
        "- A function named `scrape_books` that takes two parameters: `min_rating` and `max_price`.\n",
        "- The function should return a DataFrame with the following columns:\n",
        "  - **UPC**: The Universal Product Code (UPC) of the book.\n",
        "  - **Title**: The title of the book.\n",
        "  - **Price (£)**: The price of the book in pounds.\n",
        "  - **Rating**: The rating of the book (1-5 stars).\n",
        "  - **Genre**: The genre of the book.\n",
        "  - **Availability**: Whether the book is in stock or not.\n",
        "  - **Description**: A brief description or product description of the book (if available).\n",
        "  \n",
        "You will execute this script to scrape data for books with a minimum rating of `4.0 and above` and a maximum price of `£20`. \n",
        "\n",
        "Remember to experiment with different ratings and prices to ensure your code is versatile and can handle various searches effectively!\n",
        "\n",
        "**Resources**\n",
        "\n",
        "- [Beautiful Soup Documentation](https://www.crummy.com/software/BeautifulSoup/bs4/doc/)\n",
        "- [Pandas Documentation](https://pandas.pydata.org/pandas-docs/stable/index.html)\n",
        "- [Books to Scrape](https://books.toscrape.com/)\n"
      ]
    },
    {
      "cell_type": "markdown",
      "id": "3519921d-5890-445b-9a33-934ed8ee378c",
      "metadata": {
        "id": "3519921d-5890-445b-9a33-934ed8ee378c"
      },
      "source": [
        "**Hint**\n",
        "\n",
        "Your first mission is to familiarize yourself with the **Books to Scrape** website. Navigate to [Books to Scrape](http://books.toscrape.com/) and explore the available books to understand their layout and structure. \n",
        "\n",
        "Next, think about how you can set parameters for your data extraction:\n",
        "\n",
        "- **Minimum Rating**: Focus on books with a rating of 4.0 and above.\n",
        "- **Maximum Price**: Filter for books priced up to £20.\n",
        "\n",
        "After reviewing the site, you can construct a plan for scraping relevant data. Pay attention to the details displayed for each book, including the title, price, rating, and availability. This will help you identify the correct HTML elements to target with your scraping script.\n",
        "\n",
        "Make sure to build your scraping URL and logic based on the patterns you observe in the HTML structure of the book listings!"
      ]
    },
    {
      "cell_type": "markdown",
      "id": "25a83a0d-a742-49f6-985e-e27887cbf922",
      "metadata": {
        "id": "25a83a0d-a742-49f6-985e-e27887cbf922"
      },
      "source": [
        "\n",
        "---\n",
        "\n",
        "**Best of luck! Immerse yourself in the world of books, and may the data be with you!**"
      ]
    },
    {
      "cell_type": "markdown",
      "id": "7b75cf0d-9afa-4eec-a9e2-befeac68b2a0",
      "metadata": {
        "id": "7b75cf0d-9afa-4eec-a9e2-befeac68b2a0"
      },
      "source": [
        "**Important Note**:\n",
        "\n",
        "In the fast-changing online world, websites often update and change their structures. When you try this lab, the **Books to Scrape** website might differ from what you expect.\n",
        "\n",
        "If you encounter issues due to these changes, like new rules or obstacles preventing data extraction, don’t worry! Get creative.\n",
        "\n",
        "You can choose another website that interests you and is suitable for scraping data. Options like Wikipedia, The New York Times, or even library databases are great alternatives. The main goal remains the same: extract useful data and enhance your web scraping skills while exploring a source of information you enjoy. This is your opportunity to practice and adapt to different web environments!"
      ]
    },
    {
      "cell_type": "code",
      "execution_count": 1,
      "id": "cd2fc7bc",
      "metadata": {},
      "outputs": [],
      "source": [
        "import requests\n",
        "from bs4 import BeautifulSoup\n",
        "\n",
        "import pandas as pd"
      ]
    },
    {
      "cell_type": "code",
      "execution_count": 2,
      "id": "b476dff2",
      "metadata": {},
      "outputs": [],
      "source": [
        "url = \"https://books.toscrape.com/catalogue/page-1.html\"\n",
        "response = requests.get(url)\n",
        "\n",
        "soup = BeautifulSoup(response.content)\n",
        "\n",
        "#identify the grid\n",
        "grid = soup.find(\"ol\", attrs = {\"class\":\"row\"})\n",
        "\n",
        "#within the grid, identify all books\n",
        "books = grid.find_all(\"article\", attrs = {\"class\":\"product_pod\"})"
      ]
    },
    {
      "cell_type": "code",
      "execution_count": 3,
      "id": "cb6acac7",
      "metadata": {},
      "outputs": [
        {
          "data": {
            "text/plain": [
              "'Three'"
            ]
          },
          "execution_count": 3,
          "metadata": {},
          "output_type": "execute_result"
        }
      ],
      "source": [
        "#title\n",
        "books[0].find_all(\"a\")[-1][\"title\"]\n",
        "\n",
        "#price\n",
        "books[0].find(\"p\", attrs = {\"class\":\"price_color\"}).get_text()\n",
        "\n",
        "#rating\n",
        "books[0].find(\"p\", attrs = {\"class\":\"star-rating\"})[\"class\"][-1]"
      ]
    },
    {
      "cell_type": "code",
      "execution_count": 4,
      "id": "d44c2dbe",
      "metadata": {},
      "outputs": [],
      "source": [
        "def get_title(book):\n",
        "    return book.find_all(\"a\")[-1][\"title\"]\n",
        "\n",
        "def get_price(book):\n",
        "    raw_price = book.find(\"p\", attrs = {\"class\":\"price_color\"}).get_text()\n",
        "    clean_price = float(raw_price.replace(\"£\", \"\"))\n",
        "    return float(clean_price)\n",
        "\n",
        "def get_rating(book):\n",
        "    raw_rating = book.find(\"p\", attrs = {\"class\":\"star-rating\"})[\"class\"][-1]\n",
        "    if raw_rating == \"One\":\n",
        "        return 1\n",
        "    elif raw_rating == \"Two\":\n",
        "        return 2\n",
        "    elif raw_rating == \"Three\":\n",
        "        return 3\n",
        "    elif raw_rating == \"Four\":\n",
        "        return 4\n",
        "    else:\n",
        "        return 5\n",
        "    \n",
        "def get_link(book):\n",
        "    domain = \"https://books.toscrape.com/catalogue/\"\n",
        "    href = book.find_all(\"a\")[-1][\"href\"]\n",
        "\n",
        "    return domain + href\n",
        "\n",
        "\n",
        "def get_upc(soup_book):\n",
        "    upc = soup_book.find(\"td\").get_text()\n",
        "    return upc\n",
        "\n",
        "\n",
        "def get_availability(soup_book):\n",
        "    return soup_book.find(\"p\", attrs={\"class\":\"instock availability\"}).get_text().strip()\n",
        "\n",
        "def get_description(soup_book):\n",
        "    return soup_book.find(\"div\", id=\"product_description\").find_next(\"p\").get_text().strip()\n",
        "\n",
        "def get_genre(soup_book):\n",
        "    return soup_book.find(\"ul\", attrs = {\"class\":\"breadcrumb\"}).find_all(\"li\")[-2].get_text().strip()"
      ]
    },
    {
      "cell_type": "code",
      "execution_count": 5,
      "id": "ee34e3eb",
      "metadata": {},
      "outputs": [],
      "source": [
        "def scrape_books(max_price, min_rating, page_number):\n",
        "\n",
        "    url = f\"https://books.toscrape.com/catalogue/page-{page_number}.html\"\n",
        "    response = requests.get(url)\n",
        "\n",
        "    soup = BeautifulSoup(response.content)\n",
        "\n",
        "    #identify the grid\n",
        "    grid = soup.find(\"ol\", attrs = {\"class\":\"row\"})\n",
        "\n",
        "    #within the grid, identify all books\n",
        "    books = grid.find_all(\"article\", attrs = {\"class\":\"product_pod\"})\n",
        "\n",
        "    dict = {}\n",
        "    index = 0\n",
        "\n",
        "    for book in books:\n",
        "        title = get_title(book)\n",
        "        price = get_price(book)\n",
        "        rating = get_rating(book)\n",
        "        book_url = get_link(book)\n",
        "\n",
        "\n",
        "\n",
        "        if max_price >= price and min_rating <= rating:\n",
        "            #if both conditions above are met, we need to extract more data (UPC, Genre, etc)\n",
        "            r_book = requests.get(book_url)\n",
        "            soup_book = BeautifulSoup(r_book.content)\n",
        "\n",
        "            #extra fields to scrap\n",
        "            upc = get_upc(soup_book)\n",
        "            availability = get_availability(soup_book)\n",
        "            description = get_description(soup_book)\n",
        "            genre = get_genre(soup_book)\n",
        "\n",
        "\n",
        "            dict[index] = {\"title\": title,\n",
        "                        \"price\":price,\n",
        "                        \"rating\":rating,\n",
        "                        \"url\": book_url,\n",
        "                        \"upc\":upc,\n",
        "                        \"availability\": availability,\n",
        "                        \"description\":description,\n",
        "                        \"genre\": genre}\n",
        "            \n",
        "            index +=1\n",
        "        else:\n",
        "            pass\n",
        "\n",
        "    return pd.DataFrame.from_dict(dict, orient = \"index\")"
      ]
    },
    {
      "cell_type": "code",
      "execution_count": null,
      "id": "e938cd3b",
      "metadata": {},
      "outputs": [],
      "source": [
        "max_price = 20\n",
        "min_rating = 4\n",
        "\n",
        "list_of_dfs = []\n",
        "for i in range(1, 51):\n",
        "   df = scrape_books(max_price= max_price, \n",
        "                     min_rating= min_rating, \n",
        "                     page_number=i)\n",
        "   \n",
        "   list_of_dfs.append(df)\n",
        "   print(f\"Scraping page number {i}\")"
      ]
    },
    {
      "cell_type": "code",
      "execution_count": null,
      "id": "c5feeb55",
      "metadata": {},
      "outputs": [],
      "source": [
        "full_df = pd.concat(list_of_dfs, ignore_index=True)\n",
        "full_df"
      ]
    },
    {
      "cell_type": "code",
      "execution_count": 8,
      "id": "7cd1970d",
      "metadata": {},
      "outputs": [],
      "source": [
        "#alternative -> for loop inside the function\n",
        "\n",
        "def scrape_books(max_price, min_rating):\n",
        "\n",
        "    list_of_dfs = []\n",
        "    for page_number in range(1, 51):\n",
        "\n",
        "        url = f\"https://books.toscrape.com/catalogue/page-{page_number}.html\"\n",
        "        response = requests.get(url)\n",
        "\n",
        "        soup = BeautifulSoup(response.content)\n",
        "\n",
        "        #identify the grid\n",
        "        grid = soup.find(\"ol\", attrs = {\"class\":\"row\"})\n",
        "\n",
        "        #within the grid, identify all books\n",
        "        books = grid.find_all(\"article\", attrs = {\"class\":\"product_pod\"})\n",
        "\n",
        "        dict = {}\n",
        "        index = 0\n",
        "\n",
        "        for book in books:\n",
        "            title = get_title(book)\n",
        "            price = get_price(book)\n",
        "            rating = get_rating(book)\n",
        "            book_url = get_link(book)\n",
        "\n",
        "\n",
        "\n",
        "            if max_price >= price and min_rating <= rating:\n",
        "                #if both conditions above are met, we need to extract more data (UPC, Genre, etc)\n",
        "                r_book = requests.get(book_url)\n",
        "                soup_book = BeautifulSoup(r_book.content)\n",
        "\n",
        "                #extra fields to scrap\n",
        "                upc = get_upc(soup_book)\n",
        "                availability = get_availability(soup_book)\n",
        "                description = get_description(soup_book)\n",
        "                genre = get_genre(soup_book)\n",
        "\n",
        "\n",
        "                dict[index] = {\"title\": title,\n",
        "                            \"price\":price,\n",
        "                            \"rating\":rating,\n",
        "                            \"url\": book_url,\n",
        "                            \"upc\":upc,\n",
        "                            \"availability\": availability,\n",
        "                            \"description\":description,\n",
        "                            \"genre\": genre}\n",
        "                \n",
        "                index +=1\n",
        "            else:\n",
        "                pass\n",
        "\n",
        "        page_df = pd.DataFrame.from_dict(dict, orient = \"index\")\n",
        "        list_of_dfs.append(page_df)\n",
        "\n",
        "    return pd.concat(list_of_dfs, ignore_index=True)\n"
      ]
    },
    {
      "cell_type": "code",
      "execution_count": null,
      "id": "b3f031fb",
      "metadata": {},
      "outputs": [],
      "source": [
        "scrape_books(20, 4)"
      ]
    }
  ],
  "metadata": {
    "colab": {
      "provenance": []
    },
    "kernelspec": {
      "display_name": "base",
      "language": "python",
      "name": "python3"
    },
    "language_info": {
      "codemirror_mode": {
        "name": "ipython",
        "version": 3
      },
      "file_extension": ".py",
      "mimetype": "text/x-python",
      "name": "python",
      "nbconvert_exporter": "python",
      "pygments_lexer": "ipython3",
      "version": "3.13.5"
    }
  },
  "nbformat": 4,
  "nbformat_minor": 5
}
